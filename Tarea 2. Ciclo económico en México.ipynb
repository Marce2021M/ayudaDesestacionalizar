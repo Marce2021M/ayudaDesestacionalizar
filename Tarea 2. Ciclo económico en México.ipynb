{
 "cells": [
  {
   "cell_type": "markdown",
   "id": "7155845f-598c-4497-8ef6-e71e69070e8a",
   "metadata": {},
   "source": [
    "# Hechos estilizados del ciclo económico Mexicano\n",
    "En un cuaderno anterior analizábamos las propiedades del ciclo económico en Estados Unidos desde 1947. En este cuaderno vamos a analizar las características del ciclo económico Mexicano, desde donde haya datos y pensando en las particularidades de la economía mexicana, como la informalidad. No obstante trataremos de seguir el análisis que hicimos para Estados Unidos.\n",
    "\n",
    "**Objetivos pedagógicos**\n",
    "- Familiarizarnos con el manejo de datos de contabilidad nacional trimestral\n",
    "- Saber documentar de forma sistemática hechos estilizados\n",
    "- Calcular series de capital con el método de Hall y el método de Kehoeç\n",
    "- Calcular series de productividad total de los factores y estimar sus propiedades estadísticas con `statsmodels`\n",
    "- Usar el filtro de Hodrick-Prescott y filtrado estacional ARIMA-X11 con `statsmodels`\n",
    "- Leer datos en excel con `pandas.read_excel` y crear variables temporales trimestrales con `pandas.date_range`\n",
    "- Emparejar datos agregados y datos de la Encuesta Nacional de Ocupación y Empleo (ENOE)\n",
    "\n",
    "Entre otras cosas. Empecemos cargando librerías. Voy a ir dando tareas paso a paso. Deben usar las celdas de este cuaderno. La presentación de la tarea en cualquier otro formato recibirá una calificación de **CERO**. No puedo tener en cuenta las celdas que se ejecuten con error, ya que no tendría tiempo de ver que está fallando en su código pero daré alguna sesión de consulta para repasar los conceptos necesarios."
   ]
  },
  {
   "cell_type": "code",
   "execution_count": 1,
   "id": "51364b21-176e-477b-9706-8164b5b1ad8f",
   "metadata": {},
   "outputs": [],
   "source": [
    "import pandas as pd\n",
    "import numpy as np\n",
    "import matplotlib.pyplot as plt"
   ]
  },
  {
   "cell_type": "markdown",
   "id": "61ef6d89-0745-41d8-9e2b-8c2278af4311",
   "metadata": {},
   "source": [
    "En esta ocasión vamos a usar datos mexicanos recopilados por la [OEDC Statistics](https://stats.oecd.org/#) y es parte de la tarea encontrar los datos que se le indican. Todos estos datos están disponibles desde 1993\n",
    "\n",
    "- Descargue datos de contabilidad nacional trimestral en pesos corrientes y ajustados estacionalmente\n",
    "    - Consumo privado, consumo público, inversión, exportaciones e importaciones\n",
    "    - Deflactores de los componentes del PIB\n",
    "- Descargue datos de contabilidad nacional trimestral en pesos corrientes que habrá que ajustar estacionalmente\n",
    "    - Consumo por durabilidad\n",
    "    - Inversión pública y privada\n",
    "    - Inversión en equipos y estructuras, público y privado\n",
    "- Cargue los datos en el notebook de tal forma que obtenga un *\"dataframe\"* con un índice temporal trimestral y donde las variables aparezcan reflejadas en las columnas"
   ]
  },
  {
   "cell_type": "code",
   "execution_count": null,
   "id": "e828a490-231f-430c-be1c-4c80c8ae562f",
   "metadata": {},
   "outputs": [],
   "source": []
  },
  {
   "cell_type": "markdown",
   "id": "659b9986-8ac5-4c24-afae-789e74be3247",
   "metadata": {},
   "source": [
    "Considere únicamente el sector privado de la economía, abstrayendose también del sector exterior que es representado mediante la balanza comercial. Suponga que el deflactor del consumo privado es el numerario de la economía.\n",
    "\n",
    "## Comportamiento a largo plazo de la economía Mexicana\n",
    "- Represente gráficamente en una cuadrícula de 1x3 el logaritmo PIB privado real, la ratio de consumo privado PIB y la ratio de inversión PIB convenientemente editadas."
   ]
  },
  {
   "cell_type": "code",
   "execution_count": null,
   "id": "a0f7eef0-e2b3-496c-a041-576626fdda40",
   "metadata": {},
   "outputs": [],
   "source": []
  },
  {
   "cell_type": "markdown",
   "id": "888bd06c-ceae-4a09-93e3-5822b419c891",
   "metadata": {},
   "source": [
    "## Comportamiento de la contabilidad trimestral Mexicana\n",
    "### Consumo duradero como capital y acervo de viviendas\n",
    "- Argumente gráficamente si el consumo duradero y semi-duradero es consumo o inversión\n",
    "    - Recuerden que es necesario ajustar estacionalmente el consumo duradero y semi-duradero\n",
    "   \n",
    "Si llegan a la conclusión de que ambos componentes son inversión, deberán sustraerlos del consumo privado y añadirlos a la inversión privada. Además necesitan calcular acervos de capital privado, acervos de consumo duradero y acervos de estructura e imputarlos una rentabilidad o servicio trimestral al consumo privado de los hogares. Asuman una rentabilidad del 1% para los dos acervos.\n",
    "- Para calcular los acervos de capital estructuras y el acervo de consumo duradero van a usar el método de Hall, asumiendo una depreciación para el consumo duradero de 5% trimestral y una depreciación de los edificios del 1% trimestral. \n",
    "\n",
    "Represente gráficamente en una cuadrícula de 1x2 el acervo de bienes duraderos y el acervo de estructuras respecto del PIB."
   ]
  },
  {
   "cell_type": "code",
   "execution_count": null,
   "id": "24628a6c-344e-4213-9912-f1c20e1ab980",
   "metadata": {},
   "outputs": [],
   "source": []
  },
  {
   "cell_type": "markdown",
   "id": "e74d1d52-52d6-4fc2-b78f-3690ce9fdc65",
   "metadata": {},
   "source": [
    "### Comportamiento cíclico de las variables reales\n",
    "- Represente gráficamente en una cuadrícula de 1x1 el componente cíclico del PIB privado de la economía junto con el del consumo y la inversión privada"
   ]
  },
  {
   "cell_type": "code",
   "execution_count": null,
   "id": "eda1bd37-ce32-41d8-a598-8b2c208f587a",
   "metadata": {},
   "outputs": [],
   "source": []
  },
  {
   "cell_type": "markdown",
   "id": "86bc0e66-3dd2-4bdc-b1b0-47daaab9f3b1",
   "metadata": {},
   "source": [
    "- Represente gráficamente el componente cíclico del PIB de la economía de Estados Unidos (que pueden obtener del cuaderno sobre Estados Unidos) junto con el de México y argumente si los ciclos de ambas economías están sincronizados"
   ]
  },
  {
   "cell_type": "code",
   "execution_count": null,
   "id": "69a71d59-34e7-4a5e-94e7-51cf6432870b",
   "metadata": {},
   "outputs": [],
   "source": []
  },
  {
   "cell_type": "markdown",
   "id": "e904b9a6-6b8a-42ee-b512-838617650e06",
   "metadata": {},
   "source": [
    "- Calcule la desviación típica del consumo privado para México y Estados Unidos relativa a la desviación típica del PIB\n",
    "    - Lea las partes I y II de Aguiar \\& Gopinath (2007) y la introducción y sección 1 de Restrepo-Echavarría (2014)\n",
    "- Basándose en las lecturas y sus cálculos, discuta los motivos por los que la desviación relativa de México y de otros países es mayor que 1 "
   ]
  },
  {
   "cell_type": "code",
   "execution_count": null,
   "id": "d6f44e02-663c-4b87-955b-b775f0fad25f",
   "metadata": {},
   "outputs": [],
   "source": []
  },
  {
   "cell_type": "markdown",
   "id": "9caafa66-737b-498e-a7f3-a88abd3c1386",
   "metadata": {},
   "source": [
    "## Comportamiento cíclico de los mercados laborales\n",
    "Los datos de la OCDE también contienen información trimestral sobre población y empleo, que además es necesario para el cálculo de la productividad total de los factores. \n",
    "- Obtenga datos de población y empleo para personas de más de 15 años, también obtenga datos de las mismas variables para hombres y mujeres \n",
    "\n",
    "Los datos de la OCDE no contienen información sobre informalidad, una variable clave para entender la situación del mercado laboral mexicano. Estos datos pueden obtenerse del [Banco de Información Estadística](https://www.inegi.org.mx/app/indicadores/?tm=0)\n",
    "- Obtenga la población ocupada por condición de acceso a instituciones de salud (una medida de informalidad que no coincide con TIL1, que es la medida típica que reporta el INEGI en sus comunicados de prensa) para el total y para hombres y mujeres con periodicidad trimestral\n",
    "\n",
    "- Represente en una rejilla de 1x2 el comportamiento cíclico del PIB real junto con (i) tasa de empleo total, de hombres y mujeres (ii) tasa de informalidad (sin salud/empleo) total, de hombres y mujeres \n",
    "\n",
    "Discuta si la informalidad es procíclica o contracíclica y si lo encontrado en los datos es lo que podríamos esperar bajo la lógica de hogares que intentan suavizar su consumo intertemporalmente y si podemos distinguir alguna peculiaridad por género"
   ]
  },
  {
   "cell_type": "code",
   "execution_count": null,
   "id": "79c1b071-955e-4b5c-9ab3-44e850a7f91c",
   "metadata": {},
   "outputs": [],
   "source": []
  },
  {
   "cell_type": "markdown",
   "id": "3ff22038-2931-4829-aafa-96adc20943a4",
   "metadata": {},
   "source": [
    "- Empareje los datos de contabilidad nacional con los datos de empleo (la muestra será reducida de 2005-Q1 a 2022-Q2, pero no hay mucho que podamos hacer al respecto)\n",
    "- Usando los datos de contabilidad nacional y de empleo obtenga una medida de la productividad total de los factores de la economía. Suponga que el PIB privado de la economía puede caracterizarse como \n",
    "$$PIB_{t}=A_{t}K^{\\alpha}_{t-1}E^{1-\\alpha}_{t}$$\n",
    "donde $\\alpha=.5$ y $E_{t}$ es la población empleada de más de 15 años. La medida de la participación del trabajo en la producción es conservadora. Por un lado los datos de contabilidad nacional por el lado de la renta apuntan a que México tiene un $\\alpha$ casi mayor a 2/3, pero la contablidad nacional tiene dificultades en determinar que es renta del trabajo y del capital y de trabajo para los autoempleados, casi 1/4 de la población empleada en México. Por otro lado la Encuesta Nacional de Gastos e Ingresos de los Hogares indica que la renta laboral de los hogares Mexicanos es 2/3 de su renta total, por lo que puede haber problemas de medición y el peso del trabajo en el valor de la economía puede ser superior. No vamos a profundizar en estos temas que hubieran sido cubiertos en más detalle en un curso de crecimiento económico.\n",
    "- Obtenga la productividad total de los factores $A_{t}$\n",
    "- Represente gráficamente la evolución de $A_{t}$ y del PIB real por persona mayor de 15 años usando un gráfico 1x1 con dos ejes de ordenadas\n",
    "\n",
    "Describa su comportamiento"
   ]
  },
  {
   "cell_type": "code",
   "execution_count": null,
   "id": "b085ff4f-c571-401e-b151-812177de0e1b",
   "metadata": {},
   "outputs": [],
   "source": []
  },
  {
   "cell_type": "markdown",
   "id": "520c65e9-980f-4258-9470-4094500417a2",
   "metadata": {},
   "source": [
    "Suponga que el proceso generador de datos del logaritmo de la productividad total de los factores es \n",
    "$$\\log(A_{t+1})=t\\log(1+\\hat{A})+\\rho\\log(A_{t+1})+\\epsilon_{t+1}$$\n",
    "donde $\\epsilon_{t+1}\\longrightarrow N(0,\\sigma^{2})$. \n",
    "- Use la misma metodología del cuaderno de Estados Unidos y reporte un \"dataframe\" con la estimación de $1+\\hat{A}$, $\\rho$ y $\\sigma$ con sus desviaciones típicas (con la desviación típica de la primera hay trampa). \n",
    "\n",
    "Cabe mencionar que esto no quiere decir que sea el verdadero proceso generador de datos para la economía, pero es el adecuado para usar en un modelo de ciclos económicos reales típico, que será el tema de nuestro próximo cuaderno. "
   ]
  },
  {
   "cell_type": "code",
   "execution_count": null,
   "id": "e0cb1694-94c1-4f83-a6ee-66f3ffffb7c3",
   "metadata": {},
   "outputs": [],
   "source": []
  },
  {
   "cell_type": "markdown",
   "id": "1112f5b4-7738-45b6-bcf9-dd3c22021817",
   "metadata": {},
   "source": [
    "Dejaremos para otra ocasión el estudio de las grandes recesiones en México, ya que son más importantes las recesiones asociadas a crisis de la deuda y pánicos bancarios, cuya explicación requeriría de instrumentos propios de la Macro internacional y que se alejan de los objetivos de este curso.\n",
    "\n",
    "Los efectos de la recesión ocasionada por el covid en los mercados laborales si sería un tema más pertinente y es un buen tema de investigación."
   ]
  },
  {
   "cell_type": "code",
   "execution_count": null,
   "id": "460d91ae-9b91-42b6-b495-ea147ebe5b52",
   "metadata": {},
   "outputs": [],
   "source": []
  }
 ],
 "metadata": {
  "kernelspec": {
   "display_name": "Python 3 (ipykernel)",
   "language": "python",
   "name": "python3"
  },
  "language_info": {
   "codemirror_mode": {
    "name": "ipython",
    "version": 3
   },
   "file_extension": ".py",
   "mimetype": "text/x-python",
   "name": "python",
   "nbconvert_exporter": "python",
   "pygments_lexer": "ipython3",
   "version": "3.10.4"
  }
 },
 "nbformat": 4,
 "nbformat_minor": 5
}
